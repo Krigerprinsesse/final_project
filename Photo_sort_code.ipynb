{
 "cells": [
  {
   "cell_type": "code",
   "execution_count": 12,
   "metadata": {},
   "outputs": [],
   "source": [
    "from keras.models import Sequential\n",
    "from keras.layers import Conv2D, MaxPooling2D\n",
    "from keras.layers import Activation, Dropout, Flatten, Dense\n",
    "from keras.models import load_model\n",
    "from keras.preprocessing.image import load_img\n",
    "from keras.preprocessing.image import img_to_array\n",
    "import numpy as np\n",
    "import cv2\n",
    "from keras.preprocessing import image\n",
    "import sys\n",
    "from PIL import Image\n",
    "import os\n",
    "import shutil\n",
    "\n",
    "\n",
    "model = load_model('final_try.h5')\n",
    "\n"
   ]
  },
  {
   "cell_type": "code",
   "execution_count": 13,
   "metadata": {},
   "outputs": [],
   "source": [
    "path = 'Prediction_data'\n",
    "\n",
    "folder = os.fsencode(path)\n",
    "\n",
    "filenames = []\n",
    "\n",
    "for file in os.listdir(folder):\n",
    "    filename = os.fsdecode(file)\n",
    "    filenames.append('Prediction_data/'+(filename))\n",
    " \n",
    "filenames.sort()"
   ]
  },
  {
   "cell_type": "code",
   "execution_count": 14,
   "metadata": {},
   "outputs": [
    {
     "name": "stdout",
     "output_type": "stream",
     "text": [
      "A total of 385 photos were sorted. There are 278 pictures of Baby Hurricane and 107 remaining photos.\n"
     ]
    }
   ],
   "source": [
    "eli_total = 0\n",
    "other_total = 0\n",
    "\n",
    "\n",
    "for file in filenames:\n",
    "    img_width, img_height = 150, 150\n",
    "    img = image.load_img(file, target_size = (img_width, img_height))\n",
    "    img = image.img_to_array(img) \n",
    "    img = np.expand_dims(img, axis = 0)\n",
    "\n",
    "    results = model.predict(img)\n",
    "\n",
    "    if results < 1:\n",
    "        eli_total = eli_total + 1\n",
    "        shutil.move(file,'sorted_photos/Eli')\n",
    "        \n",
    "        continue\n",
    "        \n",
    "    else: other_total = other_total + 1\n",
    "    shutil.move(file,'sorted_photos/Other')\n",
    "    continue\n",
    "            \n",
    "total_photos = eli_total + other_total\n",
    "    \n",
    "print(f\"A total of {total_photos} photos were sorted. There are {eli_total} pictures of Baby Hurricane and {other_total} remaining photos.\")\n",
    "\n"
   ]
  },
  {
   "cell_type": "code",
   "execution_count": null,
   "metadata": {},
   "outputs": [],
   "source": []
  },
  {
   "cell_type": "code",
   "execution_count": null,
   "metadata": {},
   "outputs": [],
   "source": []
  }
 ],
 "metadata": {
  "kernelspec": {
   "display_name": "Python 3",
   "language": "python",
   "name": "python3"
  },
  "language_info": {
   "codemirror_mode": {
    "name": "ipython",
    "version": 3
   },
   "file_extension": ".py",
   "mimetype": "text/x-python",
   "name": "python",
   "nbconvert_exporter": "python",
   "pygments_lexer": "ipython3",
   "version": "3.7.3"
  }
 },
 "nbformat": 4,
 "nbformat_minor": 2
}
